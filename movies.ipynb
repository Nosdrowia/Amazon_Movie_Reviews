{
 "cells": [
  {
   "cell_type": "code",
   "execution_count": 86,
   "metadata": {
    "collapsed": false,
    "deletable": true,
    "editable": true
   },
   "outputs": [],
   "source": [
    "import nltk\n",
    "from nltk.corpus import stopwords\n",
    "from collections import defaultdict\n",
    "import pandas as pd\n",
    "from senti_classifier import senti_classifier\n",
    "from gensim import corpora,models\n",
    "from itertools import chain,islice\n",
    "from unidecode import unidecode\n",
    "import json\n",
    "import operator\n",
    "from nltk.sentiment import SentimentAnalyzer\n",
    "from nltk.sentiment.vader import SentimentIntensityAnalyzer\n",
    "import matplotlib.pyplot as plt\n",
    "from collections import Counter\n",
    "import string\n",
    "from nltk.stem.lancaster import LancasterStemmer"
   ]
  },
  {
   "cell_type": "code",
   "execution_count": 2,
   "metadata": {
    "collapsed": false,
    "deletable": true,
    "editable": true
   },
   "outputs": [],
   "source": [
    "data=defaultdict(list)\n",
    "with open(\"movies.txt\") as f:\n",
    "    subset = list(islice(f,100007))\n",
    "    for line in subset:\n",
    "        if line.strip():\n",
    "            line = line.strip()\n",
    "            line = line.split(':',1)\n",
    "            data[line[0]].append(line[1])"
   ]
  },
  {
   "cell_type": "code",
   "execution_count": 3,
   "metadata": {
    "collapsed": false,
    "deletable": true,
    "editable": true
   },
   "outputs": [],
   "source": [
    "dt = pd.DataFrame.from_dict(data,orient='index')\n",
    "dt = dt.transpose()"
   ]
  },
  {
   "cell_type": "code",
   "execution_count": 4,
   "metadata": {
    "collapsed": true,
    "deletable": true,
    "editable": true
   },
   "outputs": [],
   "source": [
    "def remove_non_ascii(text):\n",
    "    try:\n",
    "        return unidecode(unicode(text,encoding=\"utf-8\"))\n",
    "    except:\n",
    "        return unidecode(unicode(text,encoding=\"ISO-8859-1\"))"
   ]
  },
  {
   "cell_type": "code",
   "execution_count": 5,
   "metadata": {
    "collapsed": false,
    "deletable": true,
    "editable": true
   },
   "outputs": [],
   "source": [
    "#posScores = []\n",
    "#negScores = []\n",
    "#for row in dt[\"review/text\"]:\n",
    "    #pos_score,neg_score = senti_classifier.polarity_scores(remove_non_ascii(row))\n",
    "    #posScores.append(pos_score)\n",
    "    #negScores.append(neg_score)\n",
    "    \n",
    "#dt[\"pos_sentiment\"]=posScores\n",
    "#dt[\"neg_sentiment\"]=negScores\n"
   ]
  },
  {
   "cell_type": "code",
   "execution_count": 6,
   "metadata": {
    "collapsed": false,
    "deletable": true,
    "editable": true
   },
   "outputs": [],
   "source": [
    "dt['count'] = dt.groupby('product/productId')['product/productId'].transform(pd.Series.value_counts)"
   ]
  },
  {
   "cell_type": "code",
   "execution_count": 7,
   "metadata": {
    "collapsed": false,
    "deletable": true,
    "editable": true
   },
   "outputs": [
    {
     "name": "stderr",
     "output_type": "stream",
     "text": [
      "/home/josh/.local/lib/python2.7/site-packages/ipykernel/__main__.py:1: FutureWarning: sort(columns=....) is deprecated, use sort_values(by=.....)\n",
      "  if __name__ == '__main__':\n"
     ]
    },
    {
     "data": {
      "text/html": [
       "<div>\n",
       "<table border=\"1\" class=\"dataframe\">\n",
       "  <thead>\n",
       "    <tr style=\"text-align: right;\">\n",
       "      <th></th>\n",
       "      <th>review/profileName</th>\n",
       "      <th>review/time</th>\n",
       "      <th>product/productId</th>\n",
       "      <th>review/helpfulness</th>\n",
       "      <th>review/summary</th>\n",
       "      <th>review/userId</th>\n",
       "      <th>review/score</th>\n",
       "      <th>review/text</th>\n",
       "      <th>count</th>\n",
       "    </tr>\n",
       "  </thead>\n",
       "  <tbody>\n",
       "    <tr>\n",
       "      <th>2668</th>\n",
       "      <td>Patrick J. Barnes</td>\n",
       "      <td>1215993600</td>\n",
       "      <td>B000063W82</td>\n",
       "      <td>0/0</td>\n",
       "      <td>Old School</td>\n",
       "      <td>A8ZNVZPQGN8C</td>\n",
       "      <td>5.0</td>\n",
       "      <td>Wow this brought back those saturday morning ...</td>\n",
       "      <td>589</td>\n",
       "    </tr>\n",
       "    <tr>\n",
       "      <th>2772</th>\n",
       "      <td>SAFIYA D. HOSKINS \"Author\"</td>\n",
       "      <td>1183766400</td>\n",
       "      <td>B000063W82</td>\n",
       "      <td>0/0</td>\n",
       "      <td>Learning is Still Fun!</td>\n",
       "      <td>A2FMRGRTMYQ0DG</td>\n",
       "      <td>4.0</td>\n",
       "      <td>My godchildren love the educational Schoolhou...</td>\n",
       "      <td>589</td>\n",
       "    </tr>\n",
       "    <tr>\n",
       "      <th>2756</th>\n",
       "      <td>S. Adams \"sheriwx\"</td>\n",
       "      <td>1190937600</td>\n",
       "      <td>B000063W82</td>\n",
       "      <td>0/0</td>\n",
       "      <td>Love it!</td>\n",
       "      <td>A371HC8OLEOJBE</td>\n",
       "      <td>5.0</td>\n",
       "      <td>Love it love it love it.  I don't know how mu...</td>\n",
       "      <td>589</td>\n",
       "    </tr>\n",
       "    <tr>\n",
       "      <th>2757</th>\n",
       "      <td>G. Monaco</td>\n",
       "      <td>1190764800</td>\n",
       "      <td>B000063W82</td>\n",
       "      <td>0/0</td>\n",
       "      <td>School House Rock</td>\n",
       "      <td>A3PJNBG1WJFR31</td>\n",
       "      <td>5.0</td>\n",
       "      <td>Must listen and view for children through adu...</td>\n",
       "      <td>589</td>\n",
       "    </tr>\n",
       "    <tr>\n",
       "      <th>2758</th>\n",
       "      <td>Movie Addict \"Addict\"</td>\n",
       "      <td>1190332800</td>\n",
       "      <td>B000063W82</td>\n",
       "      <td>0/0</td>\n",
       "      <td>School House Rock</td>\n",
       "      <td>AD82KTVHTQ0E2</td>\n",
       "      <td>5.0</td>\n",
       "      <td>I remember watching this on Saturday morning ...</td>\n",
       "      <td>589</td>\n",
       "    </tr>\n",
       "    <tr>\n",
       "      <th>2759</th>\n",
       "      <td>David Allen</td>\n",
       "      <td>1190246400</td>\n",
       "      <td>B000063W82</td>\n",
       "      <td>0/0</td>\n",
       "      <td>SHR Rocks</td>\n",
       "      <td>A9IQA3LSK1KOV</td>\n",
       "      <td>5.0</td>\n",
       "      <td>I was the age group for these growing up.  I ...</td>\n",
       "      <td>589</td>\n",
       "    </tr>\n",
       "    <tr>\n",
       "      <th>2760</th>\n",
       "      <td>J. Hansen</td>\n",
       "      <td>1190073600</td>\n",
       "      <td>B000063W82</td>\n",
       "      <td>0/0</td>\n",
       "      <td>SCHOOL HOUSE ROCK</td>\n",
       "      <td>A2QQC5KOM40OJ4</td>\n",
       "      <td>5.0</td>\n",
       "      <td>MY KIDS LOVED THE SCHOOL HOUSE ROCK TAPE, THE...</td>\n",
       "      <td>589</td>\n",
       "    </tr>\n",
       "    <tr>\n",
       "      <th>2761</th>\n",
       "      <td>Kindergarten Teacher</td>\n",
       "      <td>1189814400</td>\n",
       "      <td>B000063W82</td>\n",
       "      <td>0/0</td>\n",
       "      <td>School House Rock</td>\n",
       "      <td>A3GMC1BHNMG1NX</td>\n",
       "      <td>5.0</td>\n",
       "      <td>Kids learn the words to songs so easily....wh...</td>\n",
       "      <td>589</td>\n",
       "    </tr>\n",
       "    <tr>\n",
       "      <th>2762</th>\n",
       "      <td>M. Rosie \"M. Rosie\"</td>\n",
       "      <td>1187827200</td>\n",
       "      <td>B000063W82</td>\n",
       "      <td>0/0</td>\n",
       "      <td>Brings back memories...and my kids love it too!</td>\n",
       "      <td>A2ZK5ESGWI4TOU</td>\n",
       "      <td>5.0</td>\n",
       "      <td>We sat and watched this DVD for hours...and j...</td>\n",
       "      <td>589</td>\n",
       "    </tr>\n",
       "    <tr>\n",
       "      <th>2763</th>\n",
       "      <td>Oasis Mom</td>\n",
       "      <td>1187481600</td>\n",
       "      <td>B000063W82</td>\n",
       "      <td>0/0</td>\n",
       "      <td>School House really does Rock!</td>\n",
       "      <td>A13547L1PPP0OP</td>\n",
       "      <td>5.0</td>\n",
       "      <td>When I was a kid, School House Rock was a pro...</td>\n",
       "      <td>589</td>\n",
       "    </tr>\n",
       "    <tr>\n",
       "      <th>2764</th>\n",
       "      <td>Patty K \"parent and teacher\"</td>\n",
       "      <td>1186358400</td>\n",
       "      <td>B000063W82</td>\n",
       "      <td>0/0</td>\n",
       "      <td>Schoolhouse Rock- Rocks!</td>\n",
       "      <td>A1ZAJV20D25H66</td>\n",
       "      <td>5.0</td>\n",
       "      <td>As a child, we would watch the Saturday morni...</td>\n",
       "      <td>589</td>\n",
       "    </tr>\n",
       "    <tr>\n",
       "      <th>2765</th>\n",
       "      <td>Rebecca Bergeman</td>\n",
       "      <td>1186099200</td>\n",
       "      <td>B000063W82</td>\n",
       "      <td>0/0</td>\n",
       "      <td>Always a Treat</td>\n",
       "      <td>A1LHBLA04J5GC9</td>\n",
       "      <td>5.0</td>\n",
       "      <td>These educational cartoonettes are always fun...</td>\n",
       "      <td>589</td>\n",
       "    </tr>\n",
       "    <tr>\n",
       "      <th>2766</th>\n",
       "      <td>P. Gale</td>\n",
       "      <td>1185667200</td>\n",
       "      <td>B000063W82</td>\n",
       "      <td>0/0</td>\n",
       "      <td>Nostalgic</td>\n",
       "      <td>A3QW63P64TL7RB</td>\n",
       "      <td>5.0</td>\n",
       "      <td>I enjoyed watching the DVD with my 12 year ol...</td>\n",
       "      <td>589</td>\n",
       "    </tr>\n",
       "    <tr>\n",
       "      <th>2767</th>\n",
       "      <td>Kristin Novilla</td>\n",
       "      <td>1185667200</td>\n",
       "      <td>B000063W82</td>\n",
       "      <td>0/0</td>\n",
       "      <td>Awesome</td>\n",
       "      <td>A140V1IIX2BTKK</td>\n",
       "      <td>5.0</td>\n",
       "      <td>The kids love watching this video, I purchase...</td>\n",
       "      <td>589</td>\n",
       "    </tr>\n",
       "    <tr>\n",
       "      <th>2768</th>\n",
       "      <td>Ariella Vaccarino creator of \"Voice Lessons T...</td>\n",
       "      <td>1185408000</td>\n",
       "      <td>B000063W82</td>\n",
       "      <td>0/0</td>\n",
       "      <td>These are awesome!</td>\n",
       "      <td>A1RE4GU6S5ZF52</td>\n",
       "      <td>5.0</td>\n",
       "      <td>I love School House Rock.  I grew up with it ...</td>\n",
       "      <td>589</td>\n",
       "    </tr>\n",
       "    <tr>\n",
       "      <th>2769</th>\n",
       "      <td>Sever 33 \"Sever\"</td>\n",
       "      <td>1185062400</td>\n",
       "      <td>B000063W82</td>\n",
       "      <td>0/0</td>\n",
       "      <td>Do It For Your Kids! A True Classic!</td>\n",
       "      <td>A22GGIOEN7Q9SJ</td>\n",
       "      <td>5.0</td>\n",
       "      <td>It is a shame that more attention has not bro...</td>\n",
       "      <td>589</td>\n",
       "    </tr>\n",
       "    <tr>\n",
       "      <th>2770</th>\n",
       "      <td>melissa mccullough \"jeanbee\"</td>\n",
       "      <td>1184889600</td>\n",
       "      <td>B000063W82</td>\n",
       "      <td>0/0</td>\n",
       "      <td>schoolhouse rock forever</td>\n",
       "      <td>A1EH7O11HJB2KK</td>\n",
       "      <td>5.0</td>\n",
       "      <td>all the wonderful songs and cartoons that enl...</td>\n",
       "      <td>589</td>\n",
       "    </tr>\n",
       "    <tr>\n",
       "      <th>2755</th>\n",
       "      <td>ME</td>\n",
       "      <td>1191110400</td>\n",
       "      <td>B000063W82</td>\n",
       "      <td>0/0</td>\n",
       "      <td>GREAT DVD, GREAT MEMORIES!</td>\n",
       "      <td>A1ZR56Z07OTHDM</td>\n",
       "      <td>5.0</td>\n",
       "      <td>I have to say that this DVD is great!  I reme...</td>\n",
       "      <td>589</td>\n",
       "    </tr>\n",
       "    <tr>\n",
       "      <th>2754</th>\n",
       "      <td>Charles P. Gabriele Jr.</td>\n",
       "      <td>1191110400</td>\n",
       "      <td>B000063W82</td>\n",
       "      <td>0/0</td>\n",
       "      <td>School House Rock A Must Have Classic</td>\n",
       "      <td>A1DCRM9CLUJ9R4</td>\n",
       "      <td>5.0</td>\n",
       "      <td>This special expanded edition of \"School Hous...</td>\n",
       "      <td>589</td>\n",
       "    </tr>\n",
       "    <tr>\n",
       "      <th>2753</th>\n",
       "      <td>CAMYSNO1MOM \"CASSANDRA\"</td>\n",
       "      <td>1191283200</td>\n",
       "      <td>B000063W82</td>\n",
       "      <td>0/0</td>\n",
       "      <td>Take me back to childhood</td>\n",
       "      <td>A1NQ07PG19BPLQ</td>\n",
       "      <td>5.0</td>\n",
       "      <td>Love, Love, Love.  I remember these when I wa...</td>\n",
       "      <td>589</td>\n",
       "    </tr>\n",
       "    <tr>\n",
       "      <th>2744</th>\n",
       "      <td>Susan Smith</td>\n",
       "      <td>1194134400</td>\n",
       "      <td>B000063W82</td>\n",
       "      <td>0/0</td>\n",
       "      <td>Schoolhouse rocks my classroom!</td>\n",
       "      <td>A2Z4DG78KWSRE4</td>\n",
       "      <td>5.0</td>\n",
       "      <td>As I teacher, I simply love these videos as a...</td>\n",
       "      <td>589</td>\n",
       "    </tr>\n",
       "    <tr>\n",
       "      <th>2738</th>\n",
       "      <td>L. Soldano</td>\n",
       "      <td>1141171200</td>\n",
       "      <td>B000063W82</td>\n",
       "      <td>11/12</td>\n",
       "      <td>Things can be corrected</td>\n",
       "      <td>A15NFAT4JJBOO</td>\n",
       "      <td>5.0</td>\n",
       "      <td>This is some great material.  Wow, talk about...</td>\n",
       "      <td>589</td>\n",
       "    </tr>\n",
       "    <tr>\n",
       "      <th>2739</th>\n",
       "      <td>Caren H</td>\n",
       "      <td>1195862400</td>\n",
       "      <td>B000063W82</td>\n",
       "      <td>0/0</td>\n",
       "      <td>Great for kids, and big kids too</td>\n",
       "      <td>A1NKKF4W2LHF6M</td>\n",
       "      <td>5.0</td>\n",
       "      <td>Anyone over the age of 30 remembers these lit...</td>\n",
       "      <td>589</td>\n",
       "    </tr>\n",
       "    <tr>\n",
       "      <th>2740</th>\n",
       "      <td>Donald Wilkes</td>\n",
       "      <td>1195084800</td>\n",
       "      <td>B000063W82</td>\n",
       "      <td>0/0</td>\n",
       "      <td>Very satisfied customer</td>\n",
       "      <td>A2E2I7S40U6P66</td>\n",
       "      <td>5.0</td>\n",
       "      <td>DVD was in pristine condition.  It actually a...</td>\n",
       "      <td>589</td>\n",
       "    </tr>\n",
       "    <tr>\n",
       "      <th>2741</th>\n",
       "      <td>Patti Bowen \"history teacher\"</td>\n",
       "      <td>1194825600</td>\n",
       "      <td>B000063W82</td>\n",
       "      <td>0/0</td>\n",
       "      <td>History made fun</td>\n",
       "      <td>ARNSBFSZGZVN2</td>\n",
       "      <td>5.0</td>\n",
       "      <td>I recently purchased the Schoolhouse Rock (Sp...</td>\n",
       "      <td>589</td>\n",
       "    </tr>\n",
       "    <tr>\n",
       "      <th>2742</th>\n",
       "      <td>Joanne Bergman</td>\n",
       "      <td>1194480000</td>\n",
       "      <td>B000063W82</td>\n",
       "      <td>0/0</td>\n",
       "      <td>I love this cd!  Brings back memories</td>\n",
       "      <td>A109RJVTZ7LRMS</td>\n",
       "      <td>5.0</td>\n",
       "      <td>Every schoolhouse rock song ever made is on h...</td>\n",
       "      <td>589</td>\n",
       "    </tr>\n",
       "    <tr>\n",
       "      <th>2743</th>\n",
       "      <td>D. M. Meyer \"Elementary Teacher\"</td>\n",
       "      <td>1194220800</td>\n",
       "      <td>B000063W82</td>\n",
       "      <td>0/0</td>\n",
       "      <td>Pleased with format</td>\n",
       "      <td>APRNX7GOLHKWL</td>\n",
       "      <td>5.0</td>\n",
       "      <td>I was concerned before I ordered this DVD tha...</td>\n",
       "      <td>589</td>\n",
       "    </tr>\n",
       "    <tr>\n",
       "      <th>2745</th>\n",
       "      <td>K. Jenkins</td>\n",
       "      <td>1193788800</td>\n",
       "      <td>B000063W82</td>\n",
       "      <td>0/0</td>\n",
       "      <td>SchoolHouse Rock ROCKS!!!!!!!!!!!!!!!!!!!!!!!!</td>\n",
       "      <td>A1P84K56W9XP7T</td>\n",
       "      <td>5.0</td>\n",
       "      <td>I am now able to share my love for Schoolhous...</td>\n",
       "      <td>589</td>\n",
       "    </tr>\n",
       "    <tr>\n",
       "      <th>2752</th>\n",
       "      <td>Conzuela Cogdell \"Conz\"</td>\n",
       "      <td>1191974400</td>\n",
       "      <td>B000063W82</td>\n",
       "      <td>0/0</td>\n",
       "      <td>Love it</td>\n",
       "      <td>A3KP9YNXAAERUG</td>\n",
       "      <td>5.0</td>\n",
       "      <td>I bought this to have for my son. Although he...</td>\n",
       "      <td>589</td>\n",
       "    </tr>\n",
       "    <tr>\n",
       "      <th>2746</th>\n",
       "      <td>Heid Butz</td>\n",
       "      <td>1193443200</td>\n",
       "      <td>B000063W82</td>\n",
       "      <td>0/0</td>\n",
       "      <td>Schoolhouse really rocks!!</td>\n",
       "      <td>AJQUAZG7EPLKG</td>\n",
       "      <td>5.0</td>\n",
       "      <td>This is a GREAT colection!!!  I use it in the...</td>\n",
       "      <td>589</td>\n",
       "    </tr>\n",
       "    <tr>\n",
       "      <th>...</th>\n",
       "      <td>...</td>\n",
       "      <td>...</td>\n",
       "      <td>...</td>\n",
       "      <td>...</td>\n",
       "      <td>...</td>\n",
       "      <td>...</td>\n",
       "      <td>...</td>\n",
       "      <td>...</td>\n",
       "      <td>...</td>\n",
       "    </tr>\n",
       "    <tr>\n",
       "      <th>2986</th>\n",
       "      <td>Ernie Odom</td>\n",
       "      <td>969408000</td>\n",
       "      <td>6303149073</td>\n",
       "      <td>7/7</td>\n",
       "      <td>Disappointed</td>\n",
       "      <td>A1Y0OFAHXMZA47</td>\n",
       "      <td>1.0</td>\n",
       "      <td>Not enough close ups to see how fingering sho...</td>\n",
       "      <td>1</td>\n",
       "    </tr>\n",
       "    <tr>\n",
       "      <th>5139</th>\n",
       "      <td>Dr. Larry Sanders</td>\n",
       "      <td>932515200</td>\n",
       "      <td>6302999014</td>\n",
       "      <td>7/7</td>\n",
       "      <td>Overall good view of Sun Lu Tang Pakua</td>\n",
       "      <td>A13738OWIHAR9H</td>\n",
       "      <td>4.0</td>\n",
       "      <td>As a practitioner of Sun Pakua, I am always h...</td>\n",
       "      <td>1</td>\n",
       "    </tr>\n",
       "    <tr>\n",
       "      <th>5263</th>\n",
       "      <td>Annie Van Auken</td>\n",
       "      <td>1223424000</td>\n",
       "      <td>B000CNET20</td>\n",
       "      <td>0/0</td>\n",
       "      <td>Vintage WWII documentaries and more</td>\n",
       "      <td>A1GGOC9PVDXW7Z</td>\n",
       "      <td>3.0</td>\n",
       "      <td>ST. CLAIR DVD multi-packs are reasonably pric...</td>\n",
       "      <td>1</td>\n",
       "    </tr>\n",
       "    <tr>\n",
       "      <th>1167</th>\n",
       "      <td>donny \"don130\"</td>\n",
       "      <td>1345248000</td>\n",
       "      <td>B0070225F4</td>\n",
       "      <td>0/0</td>\n",
       "      <td>If you love the show this is for you</td>\n",
       "      <td>A2ME89MSWVG9NF</td>\n",
       "      <td>5.0</td>\n",
       "      <td>I love Sand Masters and wanted to buy the sea...</td>\n",
       "      <td>1</td>\n",
       "    </tr>\n",
       "    <tr>\n",
       "      <th>6597</th>\n",
       "      <td>MBB</td>\n",
       "      <td>1276560000</td>\n",
       "      <td>B003BV8IBI</td>\n",
       "      <td>2/3</td>\n",
       "      <td>Great presentation and reasoned arguments</td>\n",
       "      <td>A30EWIY2YMTERY</td>\n",
       "      <td>5.0</td>\n",
       "      <td>This documentary gave a great rundown of the ...</td>\n",
       "      <td>1</td>\n",
       "    </tr>\n",
       "    <tr>\n",
       "      <th>1170</th>\n",
       "      <td>partygirl86</td>\n",
       "      <td>1293753600</td>\n",
       "      <td>B000OIOSF6</td>\n",
       "      <td>1/3</td>\n",
       "      <td>THIS VIDEO IS A MUST WATCH! 2 THUMBS WAYYYY UP!!</td>\n",
       "      <td>A1721ZDUCRYL6C</td>\n",
       "      <td>5.0</td>\n",
       "      <td>This video is hot! The dancers definitely did...</td>\n",
       "      <td>1</td>\n",
       "    </tr>\n",
       "    <tr>\n",
       "      <th>1171</th>\n",
       "      <td>S. Mitchell \"samintx\"</td>\n",
       "      <td>1224806400</td>\n",
       "      <td>1562229567</td>\n",
       "      <td>3/3</td>\n",
       "      <td>Great getting started video</td>\n",
       "      <td>A3EX8ZFNVDHGPM</td>\n",
       "      <td>5.0</td>\n",
       "      <td>I decided I wanted to learn the autoharp. I r...</td>\n",
       "      <td>1</td>\n",
       "    </tr>\n",
       "    <tr>\n",
       "      <th>10664</th>\n",
       "      <td>b_hartford@hotmail.com</td>\n",
       "      <td>902361600</td>\n",
       "      <td>0793927560</td>\n",
       "      <td>4/4</td>\n",
       "      <td>BEST British Comedy Show ever!!!!</td>\n",
       "      <td>A7G8EBURXXDT3</td>\n",
       "      <td>5.0</td>\n",
       "      <td>To The Manor Born is a British comedy set in ...</td>\n",
       "      <td>1</td>\n",
       "    </tr>\n",
       "    <tr>\n",
       "      <th>6936</th>\n",
       "      <td>Michael Butts</td>\n",
       "      <td>1344470400</td>\n",
       "      <td>B008R52L48</td>\n",
       "      <td>3/4</td>\n",
       "      <td>WHAT ARE THE MOVIES?</td>\n",
       "      <td>A3LZGLA88K0LA0</td>\n",
       "      <td>1.0</td>\n",
       "      <td>How can we buy this product without knowing t...</td>\n",
       "      <td>1</td>\n",
       "    </tr>\n",
       "    <tr>\n",
       "      <th>6736</th>\n",
       "      <td>Ty H. Davis</td>\n",
       "      <td>1253836800</td>\n",
       "      <td>B000BNXD2S</td>\n",
       "      <td>1/1</td>\n",
       "      <td>If you're into earlier LPD, this is a must ha...</td>\n",
       "      <td>A2MD57KV4I799O</td>\n",
       "      <td>4.0</td>\n",
       "      <td>Of the two home video concert releases I have...</td>\n",
       "      <td>1</td>\n",
       "    </tr>\n",
       "    <tr>\n",
       "      <th>1579</th>\n",
       "      <td>partygirl86</td>\n",
       "      <td>1293753600</td>\n",
       "      <td>B000OIOSFG</td>\n",
       "      <td>0/0</td>\n",
       "      <td>THIS VIDEO IS CRAZZZZZYYYYYYY HOTTTTTT!! WATC...</td>\n",
       "      <td>A1721ZDUCRYL6C</td>\n",
       "      <td>5.0</td>\n",
       "      <td>This video is awesome. Remy, Juelz Santana, a...</td>\n",
       "      <td>1</td>\n",
       "    </tr>\n",
       "    <tr>\n",
       "      <th>6723</th>\n",
       "      <td>ncbasspraise34 \"ncbasspraise34\"</td>\n",
       "      <td>1106611200</td>\n",
       "      <td>6305340854</td>\n",
       "      <td>0/0</td>\n",
       "      <td>A must have if you are a Michael Manring fan!...</td>\n",
       "      <td>A101XQF0IGPEO</td>\n",
       "      <td>5.0</td>\n",
       "      <td>I just love Michael's bass playing, and to se...</td>\n",
       "      <td>1</td>\n",
       "    </tr>\n",
       "    <tr>\n",
       "      <th>6722</th>\n",
       "      <td>viewer</td>\n",
       "      <td>1107302400</td>\n",
       "      <td>6303359329</td>\n",
       "      <td>5/6</td>\n",
       "      <td>Great Action Drama!!</td>\n",
       "      <td>A32PCPZL40G5N8</td>\n",
       "      <td>5.0</td>\n",
       "      <td>This is a great action drama about a group of...</td>\n",
       "      <td>1</td>\n",
       "    </tr>\n",
       "    <tr>\n",
       "      <th>6612</th>\n",
       "      <td>Sally Glass</td>\n",
       "      <td>1163376000</td>\n",
       "      <td>B000GALHPQ</td>\n",
       "      <td>1/2</td>\n",
       "      <td>Stuart is great!</td>\n",
       "      <td>A1RTD8T9YPH226</td>\n",
       "      <td>5.0</td>\n",
       "      <td>I don't know a lot about screenwriting but al...</td>\n",
       "      <td>1</td>\n",
       "    </tr>\n",
       "    <tr>\n",
       "      <th>6611</th>\n",
       "      <td>DeeMee</td>\n",
       "      <td>1347580800</td>\n",
       "      <td>6305988838</td>\n",
       "      <td>0/0</td>\n",
       "      <td>Salacious, poorly directed, poorly acted, poo...</td>\n",
       "      <td>AY92D346R4880</td>\n",
       "      <td>2.0</td>\n",
       "      <td>Why is this a pick for some film festivals?  ...</td>\n",
       "      <td>1</td>\n",
       "    </tr>\n",
       "    <tr>\n",
       "      <th>1585</th>\n",
       "      <td>Rosa Nelly</td>\n",
       "      <td>1350345600</td>\n",
       "      <td>B004XSUBE0</td>\n",
       "      <td>0/0</td>\n",
       "      <td>BORING DOCUMENTARY NOT AN STEP BY STEP TUTORIAL</td>\n",
       "      <td>A2NYNH3FVMP7J4</td>\n",
       "      <td>1.0</td>\n",
       "      <td>I WAS EXPECTING A DETAIL STEP BY STEP EXPLANA...</td>\n",
       "      <td>1</td>\n",
       "    </tr>\n",
       "    <tr>\n",
       "      <th>1588</th>\n",
       "      <td>Dan A. Hermann</td>\n",
       "      <td>1252281600</td>\n",
       "      <td>B001CCMLR0</td>\n",
       "      <td>2/6</td>\n",
       "      <td>Battle of San Pietro</td>\n",
       "      <td>A1K48E3LSAHSJD</td>\n",
       "      <td>3.0</td>\n",
       "      <td>Nice Documentary/video. Great for it's time b...</td>\n",
       "      <td>1</td>\n",
       "    </tr>\n",
       "    <tr>\n",
       "      <th>5372</th>\n",
       "      <td>paranormalguy</td>\n",
       "      <td>1342483200</td>\n",
       "      <td>B0088QNUUK</td>\n",
       "      <td>0/0</td>\n",
       "      <td>AMAZING</td>\n",
       "      <td>A3HQL02K6Z0NFL</td>\n",
       "      <td>5.0</td>\n",
       "      <td>Such a great film from dedicated and passiona...</td>\n",
       "      <td>1</td>\n",
       "    </tr>\n",
       "    <tr>\n",
       "      <th>6593</th>\n",
       "      <td>e5150</td>\n",
       "      <td>1089849600</td>\n",
       "      <td>B00028G74S</td>\n",
       "      <td>12/13</td>\n",
       "      <td>Typical B-movie</td>\n",
       "      <td>A1YSNDCBNZU3W2</td>\n",
       "      <td>3.0</td>\n",
       "      <td>A young couple wants to spice up their sex li...</td>\n",
       "      <td>1</td>\n",
       "    </tr>\n",
       "    <tr>\n",
       "      <th>2985</th>\n",
       "      <td>Wilmapug \"wells2do\"</td>\n",
       "      <td>1303516800</td>\n",
       "      <td>B0099VUXCQ</td>\n",
       "      <td>0/0</td>\n",
       "      <td>Lousy</td>\n",
       "      <td>A1XEX2Z4D7A2S4</td>\n",
       "      <td>1.0</td>\n",
       "      <td>Very poor quality copy - so dark it is imposs...</td>\n",
       "      <td>1</td>\n",
       "    </tr>\n",
       "    <tr>\n",
       "      <th>6364</th>\n",
       "      <td>yegg</td>\n",
       "      <td>1293840000</td>\n",
       "      <td>B00433TOWA</td>\n",
       "      <td>0/0</td>\n",
       "      <td>more of the same</td>\n",
       "      <td>A2YX5T2V9GNECY</td>\n",
       "      <td>2.0</td>\n",
       "      <td>not much action nor history but marginally be...</td>\n",
       "      <td>1</td>\n",
       "    </tr>\n",
       "    <tr>\n",
       "      <th>11025</th>\n",
       "      <td>Lisa O'Neill</td>\n",
       "      <td>1292630400</td>\n",
       "      <td>B002DPRW1U</td>\n",
       "      <td>2/2</td>\n",
       "      <td>really really bad, worst video ever</td>\n",
       "      <td>A10NJ1WKO3PRHZ</td>\n",
       "      <td>1.0</td>\n",
       "      <td>Worst video ever!!!!!  Don't waste your money...</td>\n",
       "      <td>1</td>\n",
       "    </tr>\n",
       "    <tr>\n",
       "      <th>11024</th>\n",
       "      <td>CyberTiger</td>\n",
       "      <td>1287100800</td>\n",
       "      <td>B0042W0BQA</td>\n",
       "      <td>2/2</td>\n",
       "      <td>A refreshing look at the life of Jimi Hendrix</td>\n",
       "      <td>A2EJREUNLFHV6R</td>\n",
       "      <td>5.0</td>\n",
       "      <td>Going into this video, I was pretty skeptical...</td>\n",
       "      <td>1</td>\n",
       "    </tr>\n",
       "    <tr>\n",
       "      <th>11023</th>\n",
       "      <td>L. B. Bryant \"Webmaster of OtakuReview.net\"</td>\n",
       "      <td>1214092800</td>\n",
       "      <td>B000VJDTTO</td>\n",
       "      <td>1/2</td>\n",
       "      <td>Great First Half</td>\n",
       "      <td>A2J5MH5U2U3A5J</td>\n",
       "      <td>3.0</td>\n",
       "      <td>I'm going to call this volume the staff's \"ar...</td>\n",
       "      <td>1</td>\n",
       "    </tr>\n",
       "    <tr>\n",
       "      <th>5972</th>\n",
       "      <td>Susan L. Cary</td>\n",
       "      <td>955065600</td>\n",
       "      <td>B00000IBNW</td>\n",
       "      <td>5/5</td>\n",
       "      <td>Secret Garden</td>\n",
       "      <td>A3LBZAR8WKT9C7</td>\n",
       "      <td>3.0</td>\n",
       "      <td>The animation doesn't flow very smoothly, but...</td>\n",
       "      <td>1</td>\n",
       "    </tr>\n",
       "    <tr>\n",
       "      <th>5964</th>\n",
       "      <td>M. Terenzio</td>\n",
       "      <td>1350950400</td>\n",
       "      <td>B008R52L4I</td>\n",
       "      <td>0/0</td>\n",
       "      <td>This isn't really a review.</td>\n",
       "      <td>A2I3G10S4CTOS0</td>\n",
       "      <td>4.0</td>\n",
       "      <td>This isn't really a review. I just feel that ...</td>\n",
       "      <td>1</td>\n",
       "    </tr>\n",
       "    <tr>\n",
       "      <th>1859</th>\n",
       "      <td>Mermaid</td>\n",
       "      <td>1270425600</td>\n",
       "      <td>B0036Q2RR4</td>\n",
       "      <td>4/4</td>\n",
       "      <td>Good old classics.</td>\n",
       "      <td>A2IL4LV0CP3Q3U</td>\n",
       "      <td>5.0</td>\n",
       "      <td>This is old Fat Chance Bellydance beginners c...</td>\n",
       "      <td>1</td>\n",
       "    </tr>\n",
       "    <tr>\n",
       "      <th>5944</th>\n",
       "      <td>Dave</td>\n",
       "      <td>1316044800</td>\n",
       "      <td>B0031Z5RWC</td>\n",
       "      <td>1/1</td>\n",
       "      <td>Nothing special</td>\n",
       "      <td>A2NXLMNPSZ6P0</td>\n",
       "      <td>1.0</td>\n",
       "      <td>There are no logos on the case (like A&amp;E, His...</td>\n",
       "      <td>1</td>\n",
       "    </tr>\n",
       "    <tr>\n",
       "      <th>2052</th>\n",
       "      <td>Anne Kathleen \"Mirror Star\"</td>\n",
       "      <td>1121644800</td>\n",
       "      <td>B0000060T0</td>\n",
       "      <td>0/0</td>\n",
       "      <td>Synopsis</td>\n",
       "      <td>A2YMRRI7W56VN1</td>\n",
       "      <td>5.0</td>\n",
       "      <td>Here are five frightfully funny adventures wi...</td>\n",
       "      <td>1</td>\n",
       "    </tr>\n",
       "    <tr>\n",
       "      <th>6564</th>\n",
       "      <td>Erik Ferenz \"elangomat\"</td>\n",
       "      <td>1106092800</td>\n",
       "      <td>B00005Y961</td>\n",
       "      <td>0/0</td>\n",
       "      <td>Learning Bluegrass Fiddle taught by Kenny Kosek</td>\n",
       "      <td>AABIUT7OJJ4IR</td>\n",
       "      <td>5.0</td>\n",
       "      <td>As stated on the back-cover of the video itse...</td>\n",
       "      <td>1</td>\n",
       "    </tr>\n",
       "  </tbody>\n",
       "</table>\n",
       "<p>11112 rows × 9 columns</p>\n",
       "</div>"
      ],
      "text/plain": [
       "                                      review/profileName  review/time  \\\n",
       "2668                                   Patrick J. Barnes   1215993600   \n",
       "2772                          SAFIYA D. HOSKINS \"Author\"   1183766400   \n",
       "2756                                  S. Adams \"sheriwx\"   1190937600   \n",
       "2757                                           G. Monaco   1190764800   \n",
       "2758                               Movie Addict \"Addict\"   1190332800   \n",
       "2759                                         David Allen   1190246400   \n",
       "2760                                           J. Hansen   1190073600   \n",
       "2761                                Kindergarten Teacher   1189814400   \n",
       "2762                                 M. Rosie \"M. Rosie\"   1187827200   \n",
       "2763                                           Oasis Mom   1187481600   \n",
       "2764                        Patty K \"parent and teacher\"   1186358400   \n",
       "2765                                    Rebecca Bergeman   1186099200   \n",
       "2766                                             P. Gale   1185667200   \n",
       "2767                                     Kristin Novilla   1185667200   \n",
       "2768    Ariella Vaccarino creator of \"Voice Lessons T...   1185408000   \n",
       "2769                                    Sever 33 \"Sever\"   1185062400   \n",
       "2770                        melissa mccullough \"jeanbee\"   1184889600   \n",
       "2755                                                  ME   1191110400   \n",
       "2754                             Charles P. Gabriele Jr.   1191110400   \n",
       "2753                             CAMYSNO1MOM \"CASSANDRA\"   1191283200   \n",
       "2744                                         Susan Smith   1194134400   \n",
       "2738                                          L. Soldano   1141171200   \n",
       "2739                                             Caren H   1195862400   \n",
       "2740                                       Donald Wilkes   1195084800   \n",
       "2741                       Patti Bowen \"history teacher\"   1194825600   \n",
       "2742                                      Joanne Bergman   1194480000   \n",
       "2743                    D. M. Meyer \"Elementary Teacher\"   1194220800   \n",
       "2745                                          K. Jenkins   1193788800   \n",
       "2752                             Conzuela Cogdell \"Conz\"   1191974400   \n",
       "2746                                           Heid Butz   1193443200   \n",
       "...                                                  ...          ...   \n",
       "2986                                          Ernie Odom    969408000   \n",
       "5139                                   Dr. Larry Sanders    932515200   \n",
       "5263                                     Annie Van Auken   1223424000   \n",
       "1167                                      donny \"don130\"   1345248000   \n",
       "6597                                                 MBB   1276560000   \n",
       "1170                                         partygirl86   1293753600   \n",
       "1171                               S. Mitchell \"samintx\"   1224806400   \n",
       "10664                             b_hartford@hotmail.com    902361600   \n",
       "6936                                       Michael Butts   1344470400   \n",
       "6736                                         Ty H. Davis   1253836800   \n",
       "1579                                         partygirl86   1293753600   \n",
       "6723                     ncbasspraise34 \"ncbasspraise34\"   1106611200   \n",
       "6722                                              viewer   1107302400   \n",
       "6612                                         Sally Glass   1163376000   \n",
       "6611                                              DeeMee   1347580800   \n",
       "1585                                          Rosa Nelly   1350345600   \n",
       "1588                                      Dan A. Hermann   1252281600   \n",
       "5372                                       paranormalguy   1342483200   \n",
       "6593                                               e5150   1089849600   \n",
       "2985                                 Wilmapug \"wells2do\"   1303516800   \n",
       "6364                                                yegg   1293840000   \n",
       "11025                                       Lisa O'Neill   1292630400   \n",
       "11024                                         CyberTiger   1287100800   \n",
       "11023        L. B. Bryant \"Webmaster of OtakuReview.net\"   1214092800   \n",
       "5972                                       Susan L. Cary    955065600   \n",
       "5964                                         M. Terenzio   1350950400   \n",
       "1859                                             Mermaid   1270425600   \n",
       "5944                                                Dave   1316044800   \n",
       "2052                         Anne Kathleen \"Mirror Star\"   1121644800   \n",
       "6564                             Erik Ferenz \"elangomat\"   1106092800   \n",
       "\n",
       "      product/productId review/helpfulness  \\\n",
       "2668         B000063W82                0/0   \n",
       "2772         B000063W82                0/0   \n",
       "2756         B000063W82                0/0   \n",
       "2757         B000063W82                0/0   \n",
       "2758         B000063W82                0/0   \n",
       "2759         B000063W82                0/0   \n",
       "2760         B000063W82                0/0   \n",
       "2761         B000063W82                0/0   \n",
       "2762         B000063W82                0/0   \n",
       "2763         B000063W82                0/0   \n",
       "2764         B000063W82                0/0   \n",
       "2765         B000063W82                0/0   \n",
       "2766         B000063W82                0/0   \n",
       "2767         B000063W82                0/0   \n",
       "2768         B000063W82                0/0   \n",
       "2769         B000063W82                0/0   \n",
       "2770         B000063W82                0/0   \n",
       "2755         B000063W82                0/0   \n",
       "2754         B000063W82                0/0   \n",
       "2753         B000063W82                0/0   \n",
       "2744         B000063W82                0/0   \n",
       "2738         B000063W82              11/12   \n",
       "2739         B000063W82                0/0   \n",
       "2740         B000063W82                0/0   \n",
       "2741         B000063W82                0/0   \n",
       "2742         B000063W82                0/0   \n",
       "2743         B000063W82                0/0   \n",
       "2745         B000063W82                0/0   \n",
       "2752         B000063W82                0/0   \n",
       "2746         B000063W82                0/0   \n",
       "...                 ...                ...   \n",
       "2986         6303149073                7/7   \n",
       "5139         6302999014                7/7   \n",
       "5263         B000CNET20                0/0   \n",
       "1167         B0070225F4                0/0   \n",
       "6597         B003BV8IBI                2/3   \n",
       "1170         B000OIOSF6                1/3   \n",
       "1171         1562229567                3/3   \n",
       "10664        0793927560                4/4   \n",
       "6936         B008R52L48                3/4   \n",
       "6736         B000BNXD2S                1/1   \n",
       "1579         B000OIOSFG                0/0   \n",
       "6723         6305340854                0/0   \n",
       "6722         6303359329                5/6   \n",
       "6612         B000GALHPQ                1/2   \n",
       "6611         6305988838                0/0   \n",
       "1585         B004XSUBE0                0/0   \n",
       "1588         B001CCMLR0                2/6   \n",
       "5372         B0088QNUUK                0/0   \n",
       "6593         B00028G74S              12/13   \n",
       "2985         B0099VUXCQ                0/0   \n",
       "6364         B00433TOWA                0/0   \n",
       "11025        B002DPRW1U                2/2   \n",
       "11024        B0042W0BQA                2/2   \n",
       "11023        B000VJDTTO                1/2   \n",
       "5972         B00000IBNW                5/5   \n",
       "5964         B008R52L4I                0/0   \n",
       "1859         B0036Q2RR4                4/4   \n",
       "5944         B0031Z5RWC                1/1   \n",
       "2052         B0000060T0                0/0   \n",
       "6564         B00005Y961                0/0   \n",
       "\n",
       "                                          review/summary    review/userId  \\\n",
       "2668                                          Old School     A8ZNVZPQGN8C   \n",
       "2772                              Learning is Still Fun!   A2FMRGRTMYQ0DG   \n",
       "2756                                            Love it!   A371HC8OLEOJBE   \n",
       "2757                                   School House Rock   A3PJNBG1WJFR31   \n",
       "2758                                   School House Rock    AD82KTVHTQ0E2   \n",
       "2759                                           SHR Rocks    A9IQA3LSK1KOV   \n",
       "2760                                   SCHOOL HOUSE ROCK   A2QQC5KOM40OJ4   \n",
       "2761                                   School House Rock   A3GMC1BHNMG1NX   \n",
       "2762     Brings back memories...and my kids love it too!   A2ZK5ESGWI4TOU   \n",
       "2763                      School House really does Rock!   A13547L1PPP0OP   \n",
       "2764                            Schoolhouse Rock- Rocks!   A1ZAJV20D25H66   \n",
       "2765                                      Always a Treat   A1LHBLA04J5GC9   \n",
       "2766                                           Nostalgic   A3QW63P64TL7RB   \n",
       "2767                                             Awesome   A140V1IIX2BTKK   \n",
       "2768                                  These are awesome!   A1RE4GU6S5ZF52   \n",
       "2769                Do It For Your Kids! A True Classic!   A22GGIOEN7Q9SJ   \n",
       "2770                            schoolhouse rock forever   A1EH7O11HJB2KK   \n",
       "2755                          GREAT DVD, GREAT MEMORIES!   A1ZR56Z07OTHDM   \n",
       "2754               School House Rock A Must Have Classic   A1DCRM9CLUJ9R4   \n",
       "2753                           Take me back to childhood   A1NQ07PG19BPLQ   \n",
       "2744                     Schoolhouse rocks my classroom!   A2Z4DG78KWSRE4   \n",
       "2738                             Things can be corrected    A15NFAT4JJBOO   \n",
       "2739                    Great for kids, and big kids too   A1NKKF4W2LHF6M   \n",
       "2740                             Very satisfied customer   A2E2I7S40U6P66   \n",
       "2741                                    History made fun    ARNSBFSZGZVN2   \n",
       "2742               I love this cd!  Brings back memories   A109RJVTZ7LRMS   \n",
       "2743                                 Pleased with format    APRNX7GOLHKWL   \n",
       "2745      SchoolHouse Rock ROCKS!!!!!!!!!!!!!!!!!!!!!!!!   A1P84K56W9XP7T   \n",
       "2752                                             Love it   A3KP9YNXAAERUG   \n",
       "2746                          Schoolhouse really rocks!!    AJQUAZG7EPLKG   \n",
       "...                                                  ...              ...   \n",
       "2986                                        Disappointed   A1Y0OFAHXMZA47   \n",
       "5139              Overall good view of Sun Lu Tang Pakua   A13738OWIHAR9H   \n",
       "5263                 Vintage WWII documentaries and more   A1GGOC9PVDXW7Z   \n",
       "1167                If you love the show this is for you   A2ME89MSWVG9NF   \n",
       "6597           Great presentation and reasoned arguments   A30EWIY2YMTERY   \n",
       "1170    THIS VIDEO IS A MUST WATCH! 2 THUMBS WAYYYY UP!!   A1721ZDUCRYL6C   \n",
       "1171                         Great getting started video   A3EX8ZFNVDHGPM   \n",
       "10664                  BEST British Comedy Show ever!!!!    A7G8EBURXXDT3   \n",
       "6936                                WHAT ARE THE MOVIES?   A3LZGLA88K0LA0   \n",
       "6736    If you're into earlier LPD, this is a must ha...   A2MD57KV4I799O   \n",
       "1579    THIS VIDEO IS CRAZZZZZYYYYYYY HOTTTTTT!! WATC...   A1721ZDUCRYL6C   \n",
       "6723    A must have if you are a Michael Manring fan!...    A101XQF0IGPEO   \n",
       "6722                                Great Action Drama!!   A32PCPZL40G5N8   \n",
       "6612                                    Stuart is great!   A1RTD8T9YPH226   \n",
       "6611    Salacious, poorly directed, poorly acted, poo...    AY92D346R4880   \n",
       "1585     BORING DOCUMENTARY NOT AN STEP BY STEP TUTORIAL   A2NYNH3FVMP7J4   \n",
       "1588                                Battle of San Pietro   A1K48E3LSAHSJD   \n",
       "5372                                             AMAZING   A3HQL02K6Z0NFL   \n",
       "6593                                     Typical B-movie   A1YSNDCBNZU3W2   \n",
       "2985                                               Lousy   A1XEX2Z4D7A2S4   \n",
       "6364                                    more of the same   A2YX5T2V9GNECY   \n",
       "11025                really really bad, worst video ever   A10NJ1WKO3PRHZ   \n",
       "11024      A refreshing look at the life of Jimi Hendrix   A2EJREUNLFHV6R   \n",
       "11023                                   Great First Half   A2J5MH5U2U3A5J   \n",
       "5972                                       Secret Garden   A3LBZAR8WKT9C7   \n",
       "5964                         This isn't really a review.   A2I3G10S4CTOS0   \n",
       "1859                                  Good old classics.   A2IL4LV0CP3Q3U   \n",
       "5944                                     Nothing special    A2NXLMNPSZ6P0   \n",
       "2052                                            Synopsis   A2YMRRI7W56VN1   \n",
       "6564     Learning Bluegrass Fiddle taught by Kenny Kosek    AABIUT7OJJ4IR   \n",
       "\n",
       "      review/score                                        review/text count  \n",
       "2668           5.0   Wow this brought back those saturday morning ...   589  \n",
       "2772           4.0   My godchildren love the educational Schoolhou...   589  \n",
       "2756           5.0   Love it love it love it.  I don't know how mu...   589  \n",
       "2757           5.0   Must listen and view for children through adu...   589  \n",
       "2758           5.0   I remember watching this on Saturday morning ...   589  \n",
       "2759           5.0   I was the age group for these growing up.  I ...   589  \n",
       "2760           5.0   MY KIDS LOVED THE SCHOOL HOUSE ROCK TAPE, THE...   589  \n",
       "2761           5.0   Kids learn the words to songs so easily....wh...   589  \n",
       "2762           5.0   We sat and watched this DVD for hours...and j...   589  \n",
       "2763           5.0   When I was a kid, School House Rock was a pro...   589  \n",
       "2764           5.0   As a child, we would watch the Saturday morni...   589  \n",
       "2765           5.0   These educational cartoonettes are always fun...   589  \n",
       "2766           5.0   I enjoyed watching the DVD with my 12 year ol...   589  \n",
       "2767           5.0   The kids love watching this video, I purchase...   589  \n",
       "2768           5.0   I love School House Rock.  I grew up with it ...   589  \n",
       "2769           5.0   It is a shame that more attention has not bro...   589  \n",
       "2770           5.0   all the wonderful songs and cartoons that enl...   589  \n",
       "2755           5.0   I have to say that this DVD is great!  I reme...   589  \n",
       "2754           5.0   This special expanded edition of \"School Hous...   589  \n",
       "2753           5.0   Love, Love, Love.  I remember these when I wa...   589  \n",
       "2744           5.0   As I teacher, I simply love these videos as a...   589  \n",
       "2738           5.0   This is some great material.  Wow, talk about...   589  \n",
       "2739           5.0   Anyone over the age of 30 remembers these lit...   589  \n",
       "2740           5.0   DVD was in pristine condition.  It actually a...   589  \n",
       "2741           5.0   I recently purchased the Schoolhouse Rock (Sp...   589  \n",
       "2742           5.0   Every schoolhouse rock song ever made is on h...   589  \n",
       "2743           5.0   I was concerned before I ordered this DVD tha...   589  \n",
       "2745           5.0   I am now able to share my love for Schoolhous...   589  \n",
       "2752           5.0   I bought this to have for my son. Although he...   589  \n",
       "2746           5.0   This is a GREAT colection!!!  I use it in the...   589  \n",
       "...            ...                                                ...   ...  \n",
       "2986           1.0   Not enough close ups to see how fingering sho...     1  \n",
       "5139           4.0   As a practitioner of Sun Pakua, I am always h...     1  \n",
       "5263           3.0   ST. CLAIR DVD multi-packs are reasonably pric...     1  \n",
       "1167           5.0   I love Sand Masters and wanted to buy the sea...     1  \n",
       "6597           5.0   This documentary gave a great rundown of the ...     1  \n",
       "1170           5.0   This video is hot! The dancers definitely did...     1  \n",
       "1171           5.0   I decided I wanted to learn the autoharp. I r...     1  \n",
       "10664          5.0   To The Manor Born is a British comedy set in ...     1  \n",
       "6936           1.0   How can we buy this product without knowing t...     1  \n",
       "6736           4.0   Of the two home video concert releases I have...     1  \n",
       "1579           5.0   This video is awesome. Remy, Juelz Santana, a...     1  \n",
       "6723           5.0   I just love Michael's bass playing, and to se...     1  \n",
       "6722           5.0   This is a great action drama about a group of...     1  \n",
       "6612           5.0   I don't know a lot about screenwriting but al...     1  \n",
       "6611           2.0   Why is this a pick for some film festivals?  ...     1  \n",
       "1585           1.0   I WAS EXPECTING A DETAIL STEP BY STEP EXPLANA...     1  \n",
       "1588           3.0   Nice Documentary/video. Great for it's time b...     1  \n",
       "5372           5.0   Such a great film from dedicated and passiona...     1  \n",
       "6593           3.0   A young couple wants to spice up their sex li...     1  \n",
       "2985           1.0   Very poor quality copy - so dark it is imposs...     1  \n",
       "6364           2.0   not much action nor history but marginally be...     1  \n",
       "11025          1.0   Worst video ever!!!!!  Don't waste your money...     1  \n",
       "11024          5.0   Going into this video, I was pretty skeptical...     1  \n",
       "11023          3.0   I'm going to call this volume the staff's \"ar...     1  \n",
       "5972           3.0   The animation doesn't flow very smoothly, but...     1  \n",
       "5964           4.0   This isn't really a review. I just feel that ...     1  \n",
       "1859           5.0   This is old Fat Chance Bellydance beginners c...     1  \n",
       "5944           1.0   There are no logos on the case (like A&E, His...     1  \n",
       "2052           5.0   Here are five frightfully funny adventures wi...     1  \n",
       "6564           5.0   As stated on the back-cover of the video itse...     1  \n",
       "\n",
       "[11112 rows x 9 columns]"
      ]
     },
     "execution_count": 7,
     "metadata": {},
     "output_type": "execute_result"
    }
   ],
   "source": [
    "pd.DataFrame(dt.sort('count',ascending=False))"
   ]
  },
  {
   "cell_type": "code",
   "execution_count": 8,
   "metadata": {
    "collapsed": false,
    "deletable": true,
    "editable": true
   },
   "outputs": [],
   "source": [
    "#dt.to_csv(\"amazon_movies.csv\",sep=',')"
   ]
  },
  {
   "cell_type": "code",
   "execution_count": 9,
   "metadata": {
    "collapsed": false,
    "deletable": true,
    "editable": true
   },
   "outputs": [],
   "source": [
    "count = 0\n",
    "analyzer = SentimentIntensityAnalyzer()\n",
    "compound = []\n",
    "rating = []"
   ]
  },
  {
   "cell_type": "code",
   "execution_count": 10,
   "metadata": {
    "collapsed": true,
    "deletable": true,
    "editable": true
   },
   "outputs": [],
   "source": [
    "def analyzeLine(movieText, currentMovie, count, compound, rating):\n",
    "    keyValuePair = movieText.split(\":\")\n",
    "    if(len(keyValuePair) == 2):\n",
    "        if(keyValuePair[0] == \"review/text\"):\n",
    "            vs = analyzer.polarity_scores(keyValuePair[1])\n",
    "            currentMovie[\"vs\"] = vs\n",
    "\n",
    "        if(keyValuePair[0] == \"product/productId\"):\n",
    "            count += 1\n",
    "            print(\"count \" + str(count))\n",
    "            if(len(currentMovie) > 0):\n",
    "\n",
    "                try:\n",
    "                        compound.append(currentMovie[\"vs\"][\"compound\"])\n",
    "                        rating.append(currentMovie[\"review/score\"])\n",
    "                        writeToFile(\"movies2.json\", json.dumps(currentMovie))\n",
    "                except UnicodeDecodeError:\n",
    "                    print(\"Oops!  Encoding error while dumping to json\")\n",
    "                    pass\n",
    "                except KeyError:\n",
    "                    print(\"Oops!  Key error while building data set\")\n",
    "                    pass\n",
    "                except UnicodeEncodeError:\n",
    "                    print(\"ENCODER BAD BAD BAD\")\n",
    "                    pass\n",
    "            currentMovie = {}\n",
    "\n",
    "        currentMovie[keyValuePair[0]] = keyValuePair[1]\n",
    "\n",
    "    return count\n",
    "\n",
    "def writeToFile(fileName, text):\n",
    "    with open(fileName, \"a\") as output:\n",
    "        output.write(text)\n",
    "\n",
    "def createScatterPlot(x, y):\n",
    "    plt.scatter(x, y)\n",
    "    plt.show()"
   ]
  },
  {
   "cell_type": "code",
   "execution_count": 11,
   "metadata": {
    "collapsed": false,
    "deletable": true,
    "editable": true
   },
   "outputs": [
    {
     "data": {
      "text/plain": [
       "'\\nwith open(\"movies.txt\") as infile:\\n    currentMovie = {}\\n    try:\\n        for line in infile:\\n            try:\\n                print(line)\\n                count = analyzeLine(line, currentMovie, count, compound, rating)\\n                if count > 11112:\\n                #print(json.dumps(movies))\\n                #writeToFile(\"movies.json\", json.dumps(movies))\\n\\n                    print(\"do scatter plot \" + str(len(compound) == len(rating)))\\n                    createScatterPlot(compound,rating)\\n                    print(\"done\")\\n                    break\\n            except UnicodeEncodeError:\\n                print(\"ENCODER BAD BAD BAD\")\\n                pass\\n    except UnicodeDecodeError:\\n        print(\"Oops!  Encoding error while reading file\")\\n        pass\\n    except KeyError:\\n        print(\"Oops!  Key error while reading file\")\\n        pass\\n    except UnicodeEncodeError:\\n        print(\"ENCODER BAD BAD BAD\")\\n        pass\\n'"
      ]
     },
     "execution_count": 11,
     "metadata": {},
     "output_type": "execute_result"
    }
   ],
   "source": [
    "'''\n",
    "with open(\"movies.txt\") as infile:\n",
    "    currentMovie = {}\n",
    "    try:\n",
    "        for line in infile:\n",
    "            try:\n",
    "                print(line)\n",
    "                count = analyzeLine(line, currentMovie, count, compound, rating)\n",
    "                if count > 11112:\n",
    "                #print(json.dumps(movies))\n",
    "                #writeToFile(\"movies.json\", json.dumps(movies))\n",
    "\n",
    "                    print(\"do scatter plot \" + str(len(compound) == len(rating)))\n",
    "                    createScatterPlot(compound,rating)\n",
    "                    print(\"done\")\n",
    "                    break\n",
    "            except UnicodeEncodeError:\n",
    "                print(\"ENCODER BAD BAD BAD\")\n",
    "                pass\n",
    "    except UnicodeDecodeError:\n",
    "        print(\"Oops!  Encoding error while reading file\")\n",
    "        pass\n",
    "    except KeyError:\n",
    "        print(\"Oops!  Key error while reading file\")\n",
    "        pass\n",
    "    except UnicodeEncodeError:\n",
    "        print(\"ENCODER BAD BAD BAD\")\n",
    "        pass\n",
    "'''"
   ]
  },
  {
   "cell_type": "code",
   "execution_count": 12,
   "metadata": {
    "collapsed": true,
    "deletable": true,
    "editable": true
   },
   "outputs": [],
   "source": [
    "def nltk_entities(text):\n",
    "    \"\"\"\n",
    "    Extract entities using the NLTK named entity chunker.\n",
    "    \"\"\"\n",
    "    text = nltk.pos_tag(nltk.word_tokenize(text))\n",
    "    results = defaultdict(list)\n",
    "    lst_results = []\n",
    "    for entity in nltk.ne_chunk(text):\n",
    "        if isinstance(entity, nltk.tree.Tree):\n",
    "            etext = \" \".join([word for word, tag in entity.leaves()])\n",
    "            label = entity.label()\n",
    "        else:\n",
    "            continue\n",
    "\n",
    "        if label == 'PERSON':\n",
    "            key = 'persons'\n",
    "        elif label == 'ORGANIZATION':\n",
    "            key = 'organizations'\n",
    "        elif label == 'LOCATION':\n",
    "            key = 'locations'\n",
    "        elif label == 'GPE':\n",
    "            key = 'other'\n",
    "        else:\n",
    "            key = None\n",
    "\n",
    "        if key:\n",
    "            results[key].append(etext)\n",
    "            lst_results.append(etext)\n",
    "\n",
    "    return lst_results"
   ]
  },
  {
   "cell_type": "markdown",
   "metadata": {
    "deletable": true,
    "editable": true
   },
   "source": [
    "## Entities"
   ]
  },
  {
   "cell_type": "code",
   "execution_count": 13,
   "metadata": {
    "collapsed": true,
    "deletable": true,
    "editable": true
   },
   "outputs": [],
   "source": [
    "#Most rated movie in dataset is Schoolhouse Rock\n",
    "schoolHouse = dt[dt['product/productId'].str.contains('B000063W82')]"
   ]
  },
  {
   "cell_type": "code",
   "execution_count": 14,
   "metadata": {
    "collapsed": false,
    "deletable": true,
    "editable": true
   },
   "outputs": [
    {
     "name": "stdout",
     "output_type": "stream",
     "text": [
      "[('DVD', 179), ('Schoolhouse Rock', 147), ('School House Rock', 59), ('SHR', 29), ('Great', 26), ('Disney', 23), ('Schoolhouse', 22), ('Lolly', 22), ('ABC', 18), ('Magic Number', 17)]\n"
     ]
    }
   ],
   "source": [
    "#Get entities from reviews about Schoolhouse Rock\n",
    "entities_cntr = Counter()\n",
    "for txt in schoolHouse['review/text'].values:\n",
    "    entities_cntr.update(nltk_entities(unidecode(txt.decode('utf-8'))))\n",
    "\n",
    "sorted_cntr = sorted(entities_cntr.items(), key=operator.itemgetter(1),reverse=True)\n",
    "print(sorted_cntr[0:10])"
   ]
  },
  {
   "cell_type": "code",
   "execution_count": 15,
   "metadata": {
    "collapsed": true,
    "deletable": true,
    "editable": true
   },
   "outputs": [],
   "source": [
    "#2nd most rated movie in dataset is The Last Samurai\n",
    "lastSamurai = dt[dt['product/productId'].str.contains('B0001G6PZC')]"
   ]
  },
  {
   "cell_type": "code",
   "execution_count": 16,
   "metadata": {
    "collapsed": false,
    "deletable": true,
    "editable": true
   },
   "outputs": [
    {
     "name": "stdout",
     "output_type": "stream",
     "text": [
      "[('Samurai', 658), ('Japanese', 434), ('Tom Cruise', 424), ('Japan', 410), ('Algren', 271), ('Cruise', 244), ('Katsumoto', 221), ('Ken Watanabe', 151), ('American', 113), ('Wolves', 79)]\n"
     ]
    }
   ],
   "source": [
    "#Get entities from reviews about The Last Samurai\n",
    "entities_cntr = Counter()\n",
    "for txt2 in lastSamurai['review/text'].values:\n",
    "    entities_cntr.update(nltk_entities(unidecode(txt2.decode('utf-8',errors='replace'))))\n",
    "\n",
    "sorted_cntrSamurai = sorted(entities_cntr.items(), key=operator.itemgetter(1),reverse=True)\n",
    "print(sorted_cntrSamurai[0:10])"
   ]
  },
  {
   "cell_type": "code",
   "execution_count": 17,
   "metadata": {
    "collapsed": true,
    "deletable": true,
    "editable": true
   },
   "outputs": [],
   "source": [
    "#3rd most rated movie in dataset is Saw\n",
    "saw = dt[dt['product/productId'].str.contains('B000AMWIVM')]"
   ]
  },
  {
   "cell_type": "code",
   "execution_count": 18,
   "metadata": {
    "collapsed": false,
    "deletable": true,
    "editable": true
   },
   "outputs": [
    {
     "name": "stdout",
     "output_type": "stream",
     "text": [
      "[('Saw', 210), ('Jigsaw', 152), ('Adam', 146), ('Danny Glover', 112), ('Cary Elwes', 94), ('SAW', 88), ('Leigh Whannell', 65), ('Elwes', 63), ('Lawrence', 59), ('Gordon', 58)]\n"
     ]
    }
   ],
   "source": [
    "#Get entities from reviews about Saw\n",
    "entities_cntr = Counter()\n",
    "for txt3 in saw['review/text'].values:\n",
    "    entities_cntr.update(nltk_entities(unidecode(txt3.decode('utf-8',errors='replace'))))\n",
    "\n",
    "sorted_cntrSaw = sorted(entities_cntr.items(), key=operator.itemgetter(1),reverse=True)\n",
    "print(sorted_cntrSaw[0:10])"
   ]
  },
  {
   "cell_type": "code",
   "execution_count": 19,
   "metadata": {
    "collapsed": true,
    "deletable": true,
    "editable": true
   },
   "outputs": [],
   "source": [
    "#4th most rated movie in dataset is Super8\n",
    "super8 = dt[dt['product/productId'].str.contains('B004EPYZQ2')]"
   ]
  },
  {
   "cell_type": "code",
   "execution_count": 20,
   "metadata": {
    "collapsed": false,
    "deletable": true,
    "editable": true
   },
   "outputs": [
    {
     "name": "stdout",
     "output_type": "stream",
     "text": [
      "[('Abrams', 183), ('Spielberg', 158), ('Joe', 152), ('Steven Spielberg', 67), ('Goonies', 58), ('Elle Fanning', 54), ('Charles', 53), ('Joel Courtney', 49), ('ET', 39), ('Alice', 37)]\n"
     ]
    }
   ],
   "source": [
    "#Get entities from reviews about Super 8\n",
    "entities_cntr = Counter()\n",
    "for txt4 in super8['review/text'].values:\n",
    "    entities_cntr.update(nltk_entities(unidecode(txt4.decode('utf-8',errors='replace'))))\n",
    "\n",
    "sorted_cntrSuper = sorted(entities_cntr.items(), key=operator.itemgetter(1),reverse=True)\n",
    "print(sorted_cntrSuper[0:10])"
   ]
  },
  {
   "cell_type": "markdown",
   "metadata": {
    "deletable": true,
    "editable": true
   },
   "source": [
    "# Topic Modeling Schoolhouse Rock"
   ]
  },
  {
   "cell_type": "code",
   "execution_count": 21,
   "metadata": {
    "collapsed": false,
    "deletable": true,
    "editable": true
   },
   "outputs": [],
   "source": [
    "exclude = set(string.punctuation)\n",
    "tokenized = []\n",
    "for doc in schoolHouse['review/text']:\n",
    "    tokens = nltk.word_tokenize(doc.lower())\n",
    "    tokenized.append(''.join([ch for ch in ' '.join(tokens) if ch not in exclude]).split())"
   ]
  },
  {
   "cell_type": "code",
   "execution_count": 22,
   "metadata": {
    "collapsed": true,
    "deletable": true,
    "editable": true
   },
   "outputs": [],
   "source": [
    "#Remove Stopwords\n",
    "sws = set(stopwords.words('english'))\n",
    "sws.add('DVD')\n",
    "sws.add('dvd')\n",
    "sws_removed = []\n",
    "for j,sent in enumerate(tokenized):\n",
    "    sws_removed.append([i for i in sent if i not in sws])"
   ]
  },
  {
   "cell_type": "code",
   "execution_count": 23,
   "metadata": {
    "collapsed": true,
    "deletable": true,
    "editable": true
   },
   "outputs": [],
   "source": [
    "dictionary = corpora.Dictionary(sws_removed)"
   ]
  },
  {
   "cell_type": "code",
   "execution_count": 24,
   "metadata": {
    "collapsed": true,
    "deletable": true,
    "editable": true
   },
   "outputs": [],
   "source": [
    "corpus = [dictionary.doc2bow(text) for text in sws_removed]"
   ]
  },
  {
   "cell_type": "code",
   "execution_count": 25,
   "metadata": {
    "collapsed": true,
    "deletable": true,
    "editable": true
   },
   "outputs": [],
   "source": [
    "ldamodel = models.ldamodel.LdaModel(corpus, num_topics=3, id2word = dictionary, passes=20)"
   ]
  },
  {
   "cell_type": "code",
   "execution_count": 26,
   "metadata": {
    "collapsed": false,
    "deletable": true,
    "editable": true
   },
   "outputs": [
    {
     "name": "stdout",
     "output_type": "stream",
     "text": [
      "[(0, u'0.018*\"songs\" + 0.016*\"great\" + 0.016*\"rock\"'), (1, u'0.032*\"br\" + 0.013*\"rock\" + 0.012*\"school\"'), (2, u'0.015*\"rock\" + 0.014*\"br\" + 0.010*\"songs\"')]\n"
     ]
    }
   ],
   "source": [
    "print(ldamodel.print_topics(num_topics=3, num_words=3))"
   ]
  },
  {
   "cell_type": "code",
   "execution_count": 27,
   "metadata": {
    "collapsed": false,
    "deletable": true,
    "editable": true
   },
   "outputs": [
    {
     "data": {
      "text/plain": [
       "[(1, 0.98477476947101994)]"
      ]
     },
     "execution_count": 27,
     "metadata": {},
     "output_type": "execute_result"
    }
   ],
   "source": [
    "ldamodel.get_document_topics(corpus[0])"
   ]
  },
  {
   "cell_type": "markdown",
   "metadata": {
    "collapsed": true,
    "deletable": true,
    "editable": true
   },
   "source": [
    "## Stemming"
   ]
  },
  {
   "cell_type": "code",
   "execution_count": 28,
   "metadata": {
    "collapsed": true
   },
   "outputs": [],
   "source": [
    "st = LancasterStemmer()\n",
    "stemmedWords = []\n",
    "\n",
    "sws = set(stopwords.words('english'))\n",
    "sws.add('DVD')\n",
    "sws.add('dvd')\n",
    "sws_removed = []\n",
    "for j,sent in enumerate(tokenized):\n",
    "    sws_removed.append([st.stem(i) for i in sent if i not in sws])  "
   ]
  },
  {
   "cell_type": "code",
   "execution_count": 29,
   "metadata": {
    "collapsed": true
   },
   "outputs": [],
   "source": [
    "dictionary = corpora.Dictionary(sws_removed)"
   ]
  },
  {
   "cell_type": "code",
   "execution_count": 30,
   "metadata": {
    "collapsed": true
   },
   "outputs": [],
   "source": [
    "corpus = [dictionary.doc2bow(text) for text in sws_removed]"
   ]
  },
  {
   "cell_type": "code",
   "execution_count": 31,
   "metadata": {
    "collapsed": true
   },
   "outputs": [],
   "source": [
    "ldamodel = models.ldamodel.LdaModel(corpus, num_topics=3, id2word = dictionary, passes=20)"
   ]
  },
  {
   "cell_type": "code",
   "execution_count": 32,
   "metadata": {
    "collapsed": false
   },
   "outputs": [
    {
     "name": "stdout",
     "output_type": "stream",
     "text": [
      "[(0, u'0.024*\"br\" + 0.015*\"rock\" + 0.013*\"us\"'), (1, u'0.019*\"br\" + 0.008*\"kid\" + 0.008*\"back\"'), (2, u'0.023*\"song\" + 0.019*\"lov\" + 0.018*\"rock\"')]\n"
     ]
    }
   ],
   "source": [
    "print(ldamodel.print_topics(num_topics=3, num_words=3))"
   ]
  },
  {
   "cell_type": "code",
   "execution_count": 33,
   "metadata": {
    "collapsed": false
   },
   "outputs": [
    {
     "data": {
      "text/plain": [
       "[(0,\n",
       "  u'0.024*\"br\" + 0.015*\"rock\" + 0.013*\"us\" + 0.010*\"schoolhouse\" + 0.009*\"school\" + 0.009*\"teach\" + 0.008*\"stud\" + 0.008*\"kid\" + 0.007*\"video\" + 0.007*\"learn\"'),\n",
       " (1,\n",
       "  u'0.019*\"br\" + 0.008*\"kid\" + 0.008*\"back\" + 0.007*\"rock\" + 0.007*\"mem\" + 0.007*\"watch\" + 0.007*\"cartoon\" + 0.007*\"morn\" + 0.007*\"saturday\" + 0.007*\"lik\"'),\n",
       " (2,\n",
       "  u'0.023*\"song\" + 0.019*\"lov\" + 0.018*\"rock\" + 0.018*\"learn\" + 0.017*\"watch\" + 0.016*\"kid\" + 0.013*\"br\" + 0.013*\"gre\" + 0.010*\"schoolhouse\" + 0.010*\"rememb\"')]"
      ]
     },
     "execution_count": 33,
     "metadata": {},
     "output_type": "execute_result"
    }
   ],
   "source": [
    "ldamodel.show_topics()"
   ]
  },
  {
   "cell_type": "code",
   "execution_count": 34,
   "metadata": {
    "collapsed": false
   },
   "outputs": [
    {
     "name": "stdout",
     "output_type": "stream",
     "text": [
      "LdaModel(num_terms=2406, num_topics=3, decay=0.5, chunksize=2000)\n"
     ]
    }
   ],
   "source": [
    "print ldamodel"
   ]
  },
  {
   "cell_type": "markdown",
   "metadata": {
    "deletable": true,
    "editable": true
   },
   "source": [
    "## Topic Documents"
   ]
  },
  {
   "cell_type": "code",
   "execution_count": 35,
   "metadata": {
    "collapsed": true,
    "deletable": true,
    "editable": true
   },
   "outputs": [],
   "source": [
    "def cleanup_characters(text):\n",
    "    newArray = []\n",
    "    for txt in text:\n",
    "        newArray.append(remove_non_ascii(txt))\n",
    "        \n",
    "    return newArray"
   ]
  },
  {
   "cell_type": "code",
   "execution_count": 39,
   "metadata": {
    "collapsed": false,
    "deletable": true,
    "editable": true
   },
   "outputs": [],
   "source": [
    "lda_corpus = ldamodel[corpus]\n",
    "\n",
    "scores = list(chain(*[[score for topic_id,score in topic] \n",
    "                      for topic in [doc for doc in lda_corpus]]))\n",
    "\n",
    "threshold = sum(scores)/len(scores)\n",
    "\n",
    "cluster1 = [j for i,j in zip(lda_corpus,schoolHouse['review/text']) if i[0][1] > threshold]\n",
    "#cluster2 = [j for i,j in zip(lda_corpus,schoolHouse['review/text']) if i[1][1] > threshold]\n",
    "#cluster3 = [j for i,j in zip(lda_corpus,schoolHouse['review/text']) if i[2][1] > threshold]"
   ]
  },
  {
   "cell_type": "code",
   "execution_count": 40,
   "metadata": {
    "collapsed": false,
    "deletable": true,
    "editable": true
   },
   "outputs": [
    {
     "name": "stdout",
     "output_type": "stream",
     "text": [
      "Positive Score: 637.875 Negative Score: 400.75\n"
     ]
    }
   ],
   "source": [
    "cluster1_cleaned = cleanup_characters(cluster1)\n",
    "\n",
    "pos_score, neg_score = senti_classifier.polarity_scores(cluster1_cleaned)\n",
    "print \"Positive Score:\",pos_score,\"Negative Score:\", neg_score"
   ]
  },
  {
   "cell_type": "markdown",
   "metadata": {},
   "source": [
    "## Topic Modeling The Last Samurai"
   ]
  },
  {
   "cell_type": "code",
   "execution_count": 46,
   "metadata": {
    "collapsed": true
   },
   "outputs": [],
   "source": [
    "exclude = set(string.punctuation)\n",
    "tokenized = []\n",
    "for doc in lastSamurai['review/text']:\n",
    "    doc = doc.decode('utf-8',errors='replace')\n",
    "    tokens = nltk.word_tokenize(doc.lower())\n",
    "    tokenized.append(''.join([ch for ch in ' '.join(tokens) if ch not in exclude]).split())"
   ]
  },
  {
   "cell_type": "code",
   "execution_count": 47,
   "metadata": {
    "collapsed": true
   },
   "outputs": [],
   "source": [
    "#Remove Stopwords\n",
    "sws = set(stopwords.words('english'))\n",
    "sws.add('DVD')\n",
    "sws.add('dvd')\n",
    "sws_removed = []\n",
    "for j,sent in enumerate(tokenized):\n",
    "    sws_removed.append([i for i in sent if i not in sws])"
   ]
  },
  {
   "cell_type": "code",
   "execution_count": 48,
   "metadata": {
    "collapsed": false
   },
   "outputs": [],
   "source": [
    "dictionary = corpora.Dictionary(sws_removed)"
   ]
  },
  {
   "cell_type": "code",
   "execution_count": 49,
   "metadata": {
    "collapsed": true
   },
   "outputs": [],
   "source": [
    "corpus = [dictionary.doc2bow(text) for text in sws_removed]"
   ]
  },
  {
   "cell_type": "code",
   "execution_count": 50,
   "metadata": {
    "collapsed": true
   },
   "outputs": [],
   "source": [
    "ldamodel = models.ldamodel.LdaModel(corpus, num_topics=3, id2word = dictionary, passes=20)"
   ]
  },
  {
   "cell_type": "code",
   "execution_count": 51,
   "metadata": {
    "collapsed": false
   },
   "outputs": [
    {
     "name": "stdout",
     "output_type": "stream",
     "text": [
      "[(0, u'0.023*\"samurai\" + 0.020*\"movie\" + 0.016*\"br\"'), (1, u'0.034*\"br\" + 0.014*\"movie\" + 0.013*\"samurai\"'), (2, u'0.008*\"film\" + 0.004*\"p\" + 0.004*\"one\"')]\n"
     ]
    }
   ],
   "source": [
    "print(ldamodel.print_topics(num_topics=3, num_words=3))"
   ]
  },
  {
   "cell_type": "code",
   "execution_count": 52,
   "metadata": {
    "collapsed": false
   },
   "outputs": [
    {
     "data": {
      "text/plain": [
       "[(0, 0.20511451366052283), (1, 0.79389954489343029)]"
      ]
     },
     "execution_count": 52,
     "metadata": {},
     "output_type": "execute_result"
    }
   ],
   "source": [
    "ldamodel.get_document_topics(corpus[0])"
   ]
  },
  {
   "cell_type": "markdown",
   "metadata": {},
   "source": [
    "## Stemming"
   ]
  },
  {
   "cell_type": "code",
   "execution_count": 53,
   "metadata": {
    "collapsed": true
   },
   "outputs": [],
   "source": [
    "st = LancasterStemmer()\n",
    "stemmedWords = []\n",
    "\n",
    "sws = set(stopwords.words('english'))\n",
    "sws.add('DVD')\n",
    "sws.add('dvd')\n",
    "sws_removed = []\n",
    "for j,sent in enumerate(tokenized):\n",
    "    sws_removed.append([st.stem(i) for i in sent if i not in sws])  "
   ]
  },
  {
   "cell_type": "code",
   "execution_count": 54,
   "metadata": {
    "collapsed": true
   },
   "outputs": [],
   "source": [
    "dictionary = corpora.Dictionary(sws_removed)"
   ]
  },
  {
   "cell_type": "code",
   "execution_count": 55,
   "metadata": {
    "collapsed": true
   },
   "outputs": [],
   "source": [
    "corpus = [dictionary.doc2bow(text) for text in sws_removed]"
   ]
  },
  {
   "cell_type": "code",
   "execution_count": 56,
   "metadata": {
    "collapsed": true
   },
   "outputs": [],
   "source": [
    "ldamodel = models.ldamodel.LdaModel(corpus, num_topics=3, id2word = dictionary, passes=20)"
   ]
  },
  {
   "cell_type": "code",
   "execution_count": 57,
   "metadata": {
    "collapsed": false
   },
   "outputs": [
    {
     "name": "stdout",
     "output_type": "stream",
     "text": [
      "[(0, u'0.045*\"movy\" + 0.014*\"samura\" + 0.014*\"cru\"'), (1, u'0.029*\"samura\" + 0.028*\"br\" + 0.014*\"film\"'), (2, u'0.018*\"br\" + 0.017*\"movy\" + 0.017*\"film\"')]\n"
     ]
    }
   ],
   "source": [
    "print(ldamodel.print_topics(num_topics=3, num_words=3))"
   ]
  },
  {
   "cell_type": "code",
   "execution_count": 58,
   "metadata": {
    "collapsed": false
   },
   "outputs": [
    {
     "data": {
      "text/plain": [
       "[(0,\n",
       "  u'0.045*\"movy\" + 0.014*\"samura\" + 0.014*\"cru\" + 0.013*\"act\" + 0.011*\"tom\" + 0.009*\"nt\" + 0.009*\"gre\" + 0.009*\"film\" + 0.008*\"see\" + 0.008*\"on\"'),\n",
       " (1,\n",
       "  u'0.029*\"samura\" + 0.028*\"br\" + 0.014*\"film\" + 0.013*\"movy\" + 0.011*\"jap\" + 0.009*\"japanes\" + 0.009*\"cru\" + 0.007*\"last\" + 0.007*\"tom\" + 0.007*\"algr\"'),\n",
       " (2,\n",
       "  u'0.018*\"br\" + 0.017*\"movy\" + 0.017*\"film\" + 0.014*\"samura\" + 0.013*\"cru\" + 0.010*\"act\" + 0.009*\"p\" + 0.008*\"algr\" + 0.008*\"on\" + 0.007*\"nt\"')]"
      ]
     },
     "execution_count": 58,
     "metadata": {},
     "output_type": "execute_result"
    }
   ],
   "source": [
    "ldamodel.show_topics()"
   ]
  },
  {
   "cell_type": "code",
   "execution_count": 59,
   "metadata": {
    "collapsed": false
   },
   "outputs": [
    {
     "name": "stdout",
     "output_type": "stream",
     "text": [
      "LdaModel(num_terms=5575, num_topics=3, decay=0.5, chunksize=2000)\n"
     ]
    }
   ],
   "source": [
    "print ldamodel"
   ]
  },
  {
   "cell_type": "markdown",
   "metadata": {},
   "source": [
    "## Topic Documents"
   ]
  },
  {
   "cell_type": "code",
   "execution_count": 62,
   "metadata": {
    "collapsed": false,
    "deletable": true,
    "editable": true
   },
   "outputs": [],
   "source": [
    "lda_corpus = ldamodel[corpus]\n",
    "\n",
    "scores = list(chain(*[[score for topic_id,score in topic] \n",
    "                      for topic in [doc for doc in lda_corpus]]))\n",
    "\n",
    "threshold = sum(scores)/len(scores)\n",
    "\n",
    "cluster1 = [j for i,j in zip(lda_corpus,lastSamurai['review/text']) if i[0][1] > threshold]\n",
    "#cluster2 = [j for i,j in zip(lda_corpus,lastSamurai['review/text']) if i[1][1] > threshold]\n",
    "#cluster3 = [j for i,j in zip(lda_corpus,lastSamurai['review/text']) if i[2][1] > threshold]"
   ]
  },
  {
   "cell_type": "code",
   "execution_count": 64,
   "metadata": {
    "collapsed": true
   },
   "outputs": [],
   "source": [
    "#Positive: 2406.944 Negative: 1246.125"
   ]
  },
  {
   "cell_type": "code",
   "execution_count": 63,
   "metadata": {
    "collapsed": false,
    "deletable": true,
    "editable": true
   },
   "outputs": [
    {
     "name": "stdout",
     "output_type": "stream",
     "text": [
      "Positive Score: 2406.944 Negative Score: 1246.125\n"
     ]
    }
   ],
   "source": [
    "cluster1_cleaned = cleanup_characters(cluster1)\n",
    "\n",
    "pos_score, neg_score = senti_classifier.polarity_scores(cluster1_cleaned)\n",
    "print \"Positive Score:\",pos_score,\"Negative Score:\", neg_score"
   ]
  },
  {
   "cell_type": "markdown",
   "metadata": {},
   "source": [
    "## Topic Modeling Saw"
   ]
  },
  {
   "cell_type": "code",
   "execution_count": 69,
   "metadata": {
    "collapsed": true
   },
   "outputs": [],
   "source": [
    "exclude = set(string.punctuation)\n",
    "tokenized = []\n",
    "for doc in saw ['review/text']:\n",
    "    doc = doc.decode('utf-8',errors='replace')\n",
    "    tokens = nltk.word_tokenize(doc.lower())\n",
    "    tokenized.append(''.join([ch for ch in ' '.join(tokens) if ch not in exclude]).split())"
   ]
  },
  {
   "cell_type": "code",
   "execution_count": 70,
   "metadata": {
    "collapsed": true
   },
   "outputs": [],
   "source": [
    "#Remove Stopwords\n",
    "sws = set(stopwords.words('english'))\n",
    "sws.add('DVD')\n",
    "sws.add('dvd')\n",
    "sws_removed = []\n",
    "for j,sent in enumerate(tokenized):\n",
    "    sws_removed.append([i for i in sent if i not in sws])"
   ]
  },
  {
   "cell_type": "code",
   "execution_count": 71,
   "metadata": {
    "collapsed": true
   },
   "outputs": [],
   "source": [
    "dictionary = corpora.Dictionary(sws_removed)"
   ]
  },
  {
   "cell_type": "code",
   "execution_count": 72,
   "metadata": {
    "collapsed": true
   },
   "outputs": [],
   "source": [
    "corpus = [dictionary.doc2bow(text) for text in sws_removed]"
   ]
  },
  {
   "cell_type": "code",
   "execution_count": 73,
   "metadata": {
    "collapsed": true
   },
   "outputs": [],
   "source": [
    "ldamodel = models.ldamodel.LdaModel(corpus, num_topics=3, id2word = dictionary, passes=20)"
   ]
  },
  {
   "cell_type": "code",
   "execution_count": 74,
   "metadata": {
    "collapsed": false
   },
   "outputs": [
    {
     "name": "stdout",
     "output_type": "stream",
     "text": [
      "[(0, u'0.012*\"br\" + 0.006*\"saw\" + 0.004*\"que\"'), (1, u'0.006*\"film\" + 0.005*\"gordon\" + 0.004*\"jigsaw\"'), (2, u'0.034*\"br\" + 0.023*\"movie\" + 0.014*\"saw\"')]\n"
     ]
    }
   ],
   "source": [
    "print(ldamodel.print_topics(num_topics=3, num_words=3))"
   ]
  },
  {
   "cell_type": "markdown",
   "metadata": {},
   "source": [
    "## Stemming"
   ]
  },
  {
   "cell_type": "code",
   "execution_count": 84,
   "metadata": {
    "collapsed": true
   },
   "outputs": [],
   "source": [
    "st = LancasterStemmer()\n",
    "stemmedWords = []\n",
    "\n",
    "sws = set(stopwords.words('english'))\n",
    "sws.add('DVD')\n",
    "sws.add('dvd')\n",
    "sws_removed = []\n",
    "for j,sent in enumerate(tokenized):\n",
    "    sws_removed.append([st.stem(i) for i in sent if i not in sws])  "
   ]
  },
  {
   "cell_type": "code",
   "execution_count": 76,
   "metadata": {
    "collapsed": true
   },
   "outputs": [],
   "source": [
    "dictionary = corpora.Dictionary(sws_removed)"
   ]
  },
  {
   "cell_type": "code",
   "execution_count": 77,
   "metadata": {
    "collapsed": true
   },
   "outputs": [],
   "source": [
    "corpus = [dictionary.doc2bow(text) for text in sws_removed]"
   ]
  },
  {
   "cell_type": "code",
   "execution_count": 78,
   "metadata": {
    "collapsed": true
   },
   "outputs": [],
   "source": [
    "ldamodel = models.ldamodel.LdaModel(corpus, num_topics=3, id2word = dictionary, passes=20)"
   ]
  },
  {
   "cell_type": "code",
   "execution_count": 79,
   "metadata": {
    "collapsed": false
   },
   "outputs": [
    {
     "name": "stdout",
     "output_type": "stream",
     "text": [
      "[(0, u'0.011*\"br\" + 0.006*\"que\" + 0.005*\"de\"'), (1, u'0.029*\"br\" + 0.014*\"saw\" + 0.014*\"kil\"'), (2, u'0.034*\"br\" + 0.034*\"movy\" + 0.016*\"film\"')]\n"
     ]
    }
   ],
   "source": [
    "print(ldamodel.print_topics(num_topics=3, num_words=3))"
   ]
  },
  {
   "cell_type": "code",
   "execution_count": 80,
   "metadata": {
    "collapsed": false
   },
   "outputs": [
    {
     "data": {
      "text/plain": [
       "[(0,\n",
       "  u'0.011*\"br\" + 0.006*\"que\" + 0.005*\"de\" + 0.005*\"un\" + 0.005*\"la\" + 0.004*\"sev\" + 0.004*\"el\" + 0.003*\"es\" + 0.003*\"pelicul\" + 0.003*\"saw\"'),\n",
       " (1,\n",
       "  u'0.029*\"br\" + 0.014*\"saw\" + 0.014*\"kil\" + 0.014*\"film\" + 0.010*\"movy\" + 0.008*\"adam\" + 0.008*\"on\" + 0.007*\"hor\" + 0.007*\"jigsaw\" + 0.007*\"two\"'),\n",
       " (2,\n",
       "  u'0.034*\"br\" + 0.034*\"movy\" + 0.016*\"film\" + 0.015*\"nt\" + 0.014*\"saw\" + 0.012*\"act\" + 0.010*\"lik\" + 0.010*\"hor\" + 0.010*\"on\" + 0.009*\"real\"')]"
      ]
     },
     "execution_count": 80,
     "metadata": {},
     "output_type": "execute_result"
    }
   ],
   "source": [
    "ldamodel.show_topics()"
   ]
  },
  {
   "cell_type": "code",
   "execution_count": 81,
   "metadata": {
    "collapsed": false
   },
   "outputs": [
    {
     "name": "stdout",
     "output_type": "stream",
     "text": [
      "LdaModel(num_terms=4990, num_topics=3, decay=0.5, chunksize=2000)\n"
     ]
    }
   ],
   "source": [
    "print ldamodel"
   ]
  },
  {
   "cell_type": "markdown",
   "metadata": {},
   "source": [
    "## Topic Documents"
   ]
  },
  {
   "cell_type": "code",
   "execution_count": 82,
   "metadata": {
    "collapsed": true
   },
   "outputs": [],
   "source": [
    "lda_corpus = ldamodel[corpus]\n",
    "\n",
    "scores = list(chain(*[[score for topic_id,score in topic] \n",
    "                      for topic in [doc for doc in lda_corpus]]))\n",
    "\n",
    "threshold = sum(scores)/len(scores)\n",
    "\n",
    "cluster1 = [j for i,j in zip(lda_corpus,saw['review/text']) if i[0][1] > threshold]\n",
    "#cluster2 = [j for i,j in zip(lda_corpus,lastSamurai['review/text']) if i[1][1] > threshold]\n",
    "#cluster3 = [j for i,j in zip(lda_corpus,lastSamurai['review/text']) if i[2][1] > threshold]"
   ]
  },
  {
   "cell_type": "code",
   "execution_count": 83,
   "metadata": {
    "collapsed": false
   },
   "outputs": [
    {
     "name": "stdout",
     "output_type": "stream",
     "text": [
      "Positive Score: 1647.661 Negative Score: 1518.904\n"
     ]
    }
   ],
   "source": [
    "cluster1_cleaned = cleanup_characters(cluster1)\n",
    "\n",
    "pos_score, neg_score = senti_classifier.polarity_scores(cluster1_cleaned)\n",
    "print \"Positive Score:\",pos_score,\"Negative Score:\", neg_score"
   ]
  },
  {
   "cell_type": "markdown",
   "metadata": {},
   "source": [
    "### Positive Score: 1647.661 Negative Score: 1518.904"
   ]
  },
  {
   "cell_type": "markdown",
   "metadata": {},
   "source": [
    "## Topic Modeling Super 8"
   ]
  },
  {
   "cell_type": "code",
   "execution_count": 87,
   "metadata": {
    "collapsed": true
   },
   "outputs": [],
   "source": [
    "exclude = set(string.punctuation)\n",
    "tokenized = []\n",
    "for doc in super8['review/text']:\n",
    "    doc = doc.decode('utf-8',errors='replace')\n",
    "    tokens = nltk.word_tokenize(doc.lower())\n",
    "    tokenized.append(''.join([ch for ch in ' '.join(tokens) if ch not in exclude]).split())"
   ]
  },
  {
   "cell_type": "code",
   "execution_count": 88,
   "metadata": {
    "collapsed": true
   },
   "outputs": [],
   "source": [
    "#Remove Stopwords\n",
    "sws = set(stopwords.words('english'))\n",
    "sws.add('DVD')\n",
    "sws.add('dvd')\n",
    "sws_removed = []\n",
    "for j,sent in enumerate(tokenized):\n",
    "    sws_removed.append([i for i in sent if i not in sws])"
   ]
  },
  {
   "cell_type": "code",
   "execution_count": 89,
   "metadata": {
    "collapsed": true
   },
   "outputs": [],
   "source": [
    "dictionary = corpora.Dictionary(sws_removed)"
   ]
  },
  {
   "cell_type": "code",
   "execution_count": 90,
   "metadata": {
    "collapsed": true
   },
   "outputs": [],
   "source": [
    "corpus = [dictionary.doc2bow(text) for text in sws_removed]"
   ]
  },
  {
   "cell_type": "code",
   "execution_count": 91,
   "metadata": {
    "collapsed": true
   },
   "outputs": [],
   "source": [
    "ldamodel = models.ldamodel.LdaModel(corpus, num_topics=3, id2word = dictionary, passes=20)"
   ]
  },
  {
   "cell_type": "code",
   "execution_count": 92,
   "metadata": {
    "collapsed": false
   },
   "outputs": [
    {
     "name": "stdout",
     "output_type": "stream",
     "text": [
      "[(0, u'0.012*\"br\" + 0.005*\"movie\" + 0.005*\"alien\"'), (1, u'0.040*\"br\" + 0.018*\"film\" + 0.012*\"movie\"'), (2, u'0.035*\"movie\" + 0.018*\"br\" + 0.013*\"nt\"')]\n"
     ]
    }
   ],
   "source": [
    "print(ldamodel.print_topics(num_topics=3, num_words=3))"
   ]
  },
  {
   "cell_type": "markdown",
   "metadata": {},
   "source": [
    "## Stemming"
   ]
  },
  {
   "cell_type": "code",
   "execution_count": 93,
   "metadata": {
    "collapsed": true
   },
   "outputs": [],
   "source": [
    "st = LancasterStemmer()\n",
    "stemmedWords = []\n",
    "\n",
    "sws = set(stopwords.words('english'))\n",
    "sws.add('DVD')\n",
    "sws.add('dvd')\n",
    "sws_removed = []\n",
    "for j,sent in enumerate(tokenized):\n",
    "    sws_removed.append([st.stem(i) for i in sent if i not in sws])  "
   ]
  },
  {
   "cell_type": "code",
   "execution_count": 94,
   "metadata": {
    "collapsed": true
   },
   "outputs": [],
   "source": [
    "dictionary = corpora.Dictionary(sws_removed)"
   ]
  },
  {
   "cell_type": "code",
   "execution_count": 95,
   "metadata": {
    "collapsed": true
   },
   "outputs": [],
   "source": [
    "corpus = [dictionary.doc2bow(text) for text in sws_removed]"
   ]
  },
  {
   "cell_type": "code",
   "execution_count": 96,
   "metadata": {
    "collapsed": true
   },
   "outputs": [],
   "source": [
    "ldamodel = models.ldamodel.LdaModel(corpus, num_topics=3, id2word = dictionary, passes=20)"
   ]
  },
  {
   "cell_type": "code",
   "execution_count": 97,
   "metadata": {
    "collapsed": false
   },
   "outputs": [
    {
     "name": "stdout",
     "output_type": "stream",
     "text": [
      "[(0, u'0.024*\"br\" + 0.017*\"aly\" + 0.010*\"movy\"'), (1, u'0.029*\"br\" + 0.025*\"film\" + 0.012*\"sup\"'), (2, u'0.044*\"movy\" + 0.031*\"br\" + 0.014*\"film\"')]\n"
     ]
    }
   ],
   "source": [
    "print(ldamodel.print_topics(num_topics=3, num_words=3))"
   ]
  },
  {
   "cell_type": "code",
   "execution_count": 98,
   "metadata": {
    "collapsed": false
   },
   "outputs": [
    {
     "data": {
      "text/plain": [
       "[(0,\n",
       "  u'0.024*\"br\" + 0.017*\"aly\" + 0.010*\"movy\" + 0.010*\"film\" + 0.009*\"lik\" + 0.008*\"kid\" + 0.007*\"et\" + 0.006*\"spielberg\" + 0.006*\"on\" + 0.006*\"nt\"'),\n",
       " (1,\n",
       "  u'0.029*\"br\" + 0.025*\"film\" + 0.012*\"sup\" + 0.012*\"8\" + 0.010*\"movy\" + 0.009*\"joe\" + 0.009*\"abram\" + 0.008*\"spielberg\" + 0.008*\"train\" + 0.008*\"kid\"'),\n",
       " (2,\n",
       "  u'0.044*\"movy\" + 0.031*\"br\" + 0.014*\"film\" + 0.014*\"nt\" + 0.013*\"kid\" + 0.012*\"act\" + 0.011*\"lik\" + 0.010*\"real\" + 0.010*\"good\" + 0.008*\"watch\"')]"
      ]
     },
     "execution_count": 98,
     "metadata": {},
     "output_type": "execute_result"
    }
   ],
   "source": [
    "ldamodel.show_topics()"
   ]
  },
  {
   "cell_type": "code",
   "execution_count": 99,
   "metadata": {
    "collapsed": false
   },
   "outputs": [
    {
     "name": "stdout",
     "output_type": "stream",
     "text": [
      "LdaModel(num_terms=4541, num_topics=3, decay=0.5, chunksize=2000)\n"
     ]
    }
   ],
   "source": [
    "print ldamodel"
   ]
  },
  {
   "cell_type": "markdown",
   "metadata": {},
   "source": [
    "## Topic Documents"
   ]
  },
  {
   "cell_type": "code",
   "execution_count": 100,
   "metadata": {
    "collapsed": true
   },
   "outputs": [],
   "source": [
    "lda_corpus = ldamodel[corpus]\n",
    "\n",
    "scores = list(chain(*[[score for topic_id,score in topic] \n",
    "                      for topic in [doc for doc in lda_corpus]]))\n",
    "\n",
    "threshold = sum(scores)/len(scores)\n",
    "\n",
    "cluster1 = [j for i,j in zip(lda_corpus,super8['review/text']) if i[0][1] > threshold]\n",
    "#cluster2 = [j for i,j in zip(lda_corpus,lastSamurai['review/text']) if i[1][1] > threshold]\n",
    "#cluster3 = [j for i,j in zip(lda_corpus,lastSamurai['review/text']) if i[2][1] > threshold]"
   ]
  },
  {
   "cell_type": "code",
   "execution_count": 101,
   "metadata": {
    "collapsed": false
   },
   "outputs": [
    {
     "name": "stdout",
     "output_type": "stream",
     "text": [
      "Positive Score: 1681.51 Negative Score: 1050.07\n"
     ]
    }
   ],
   "source": [
    "cluster1_cleaned = cleanup_characters(cluster1)\n",
    "\n",
    "pos_score, neg_score = senti_classifier.polarity_scores(cluster1_cleaned)\n",
    "print \"Positive Score:\",pos_score,\"Negative Score:\", neg_score"
   ]
  },
  {
   "cell_type": "markdown",
   "metadata": {},
   "source": [
    "## Positive Score: 1681.51 Negative Score: 1050.07"
   ]
  },
  {
   "cell_type": "code",
   "execution_count": null,
   "metadata": {
    "collapsed": true
   },
   "outputs": [],
   "source": []
  },
  {
   "cell_type": "code",
   "execution_count": null,
   "metadata": {
    "collapsed": true
   },
   "outputs": [],
   "source": []
  },
  {
   "cell_type": "code",
   "execution_count": null,
   "metadata": {
    "collapsed": true
   },
   "outputs": [],
   "source": []
  }
 ],
 "metadata": {
  "kernelspec": {
   "display_name": "Python 2",
   "language": "python",
   "name": "python2"
  },
  "language_info": {
   "codemirror_mode": {
    "name": "ipython",
    "version": 2
   },
   "file_extension": ".py",
   "mimetype": "text/x-python",
   "name": "python",
   "nbconvert_exporter": "python",
   "pygments_lexer": "ipython2",
   "version": "2.7.12"
  }
 },
 "nbformat": 4,
 "nbformat_minor": 2
}
